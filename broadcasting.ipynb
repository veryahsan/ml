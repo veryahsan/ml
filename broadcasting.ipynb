{
 "cells": [
  {
   "cell_type": "markdown",
   "id": "45c7b3c2-5292-45af-a72f-7ab1ffa13216",
   "metadata": {},
   "source": [
    "Real life example for fully understanding a very important concept of broadcasting in dataframes and series"
   ]
  },
  {
   "cell_type": "code",
   "execution_count": 13,
   "id": "d17f312e-9bea-4af8-9a4f-2c0d2d0bbd78",
   "metadata": {},
   "outputs": [],
   "source": [
    "import numpy as np\n",
    "import pandas as pd\n",
    "\n",
    "nba_data = {\n",
    "    \"Name\" : [\"Averay Bradley\", \"Jae Crawder\", \"John Holland\"],\n",
    "    \"Team\" : [\"Boston Leltics\", \"Boston Leltics\", \"Boston Leltics\"],\n",
    "    \"Number\" : [0.0, 99.0, 30.0],\n",
    "    \"Position\" : [\"PG\", \"SF\", \"SG\"],\n",
    "    \"Age\" : [25.0, 25.0, 27.0],\n",
    "    \"Height\" : [\"6-2\", \"6-6\", \"6-5\"],\n",
    "    \"Weight\" : [180.0, 135.0, 205.0],\n",
    "    \"College\" : [\"Texas\", \"Marquette\", \"Boston University\"],\n",
    "    \"Salary\" : [7743232.0, 33422.0, np.nan]\n",
    "}"
   ]
  },
  {
   "cell_type": "code",
   "execution_count": 14,
   "id": "e58de264-799f-4607-9922-e28cf26fd4b2",
   "metadata": {},
   "outputs": [
    {
     "data": {
      "text/plain": [
       "{'Name': ['Averay Bradley', 'Jae Crawder', 'John Holland'],\n",
       " 'Team': ['Boston Leltics', 'Boston Leltics', 'Boston Leltics'],\n",
       " 'Number': [0.0, 99.0, 30.0],\n",
       " 'Position': ['PG', 'SF', 'SG'],\n",
       " 'Age': [25.0, 25.0, 27.0],\n",
       " 'Height': ['6-2', '6-6', '6-5'],\n",
       " 'Weight': [180.0, 135.0, 205.0],\n",
       " 'College': ['Texas', 'Marquette', 'Boston University'],\n",
       " 'Salary': [7743232.0, 33422.0, nan]}"
      ]
     },
     "execution_count": 14,
     "metadata": {},
     "output_type": "execute_result"
    }
   ],
   "source": [
    "nba_data"
   ]
  },
  {
   "cell_type": "code",
   "execution_count": 15,
   "id": "2583a6d2-0c67-4653-aa5e-746faa1ba61b",
   "metadata": {},
   "outputs": [],
   "source": [
    "nba_df = pd.DataFrame(nba_data)"
   ]
  },
  {
   "cell_type": "code",
   "execution_count": 16,
   "id": "8363123a-e2ca-43b5-8cff-6576241dd471",
   "metadata": {},
   "outputs": [
    {
     "data": {
      "text/html": [
       "<div>\n",
       "<style scoped>\n",
       "    .dataframe tbody tr th:only-of-type {\n",
       "        vertical-align: middle;\n",
       "    }\n",
       "\n",
       "    .dataframe tbody tr th {\n",
       "        vertical-align: top;\n",
       "    }\n",
       "\n",
       "    .dataframe thead th {\n",
       "        text-align: right;\n",
       "    }\n",
       "</style>\n",
       "<table border=\"1\" class=\"dataframe\">\n",
       "  <thead>\n",
       "    <tr style=\"text-align: right;\">\n",
       "      <th></th>\n",
       "      <th>Name</th>\n",
       "      <th>Team</th>\n",
       "      <th>Number</th>\n",
       "      <th>Position</th>\n",
       "      <th>Age</th>\n",
       "      <th>Height</th>\n",
       "      <th>Weight</th>\n",
       "      <th>College</th>\n",
       "      <th>Salary</th>\n",
       "    </tr>\n",
       "  </thead>\n",
       "  <tbody>\n",
       "    <tr>\n",
       "      <th>0</th>\n",
       "      <td>Averay Bradley</td>\n",
       "      <td>Boston Leltics</td>\n",
       "      <td>0.0</td>\n",
       "      <td>PG</td>\n",
       "      <td>25.0</td>\n",
       "      <td>6-2</td>\n",
       "      <td>180.0</td>\n",
       "      <td>Texas</td>\n",
       "      <td>7743232.0</td>\n",
       "    </tr>\n",
       "    <tr>\n",
       "      <th>1</th>\n",
       "      <td>Jae Crawder</td>\n",
       "      <td>Boston Leltics</td>\n",
       "      <td>99.0</td>\n",
       "      <td>SF</td>\n",
       "      <td>25.0</td>\n",
       "      <td>6-6</td>\n",
       "      <td>135.0</td>\n",
       "      <td>Marquette</td>\n",
       "      <td>33422.0</td>\n",
       "    </tr>\n",
       "    <tr>\n",
       "      <th>2</th>\n",
       "      <td>John Holland</td>\n",
       "      <td>Boston Leltics</td>\n",
       "      <td>30.0</td>\n",
       "      <td>SG</td>\n",
       "      <td>27.0</td>\n",
       "      <td>6-5</td>\n",
       "      <td>205.0</td>\n",
       "      <td>Boston University</td>\n",
       "      <td>NaN</td>\n",
       "    </tr>\n",
       "  </tbody>\n",
       "</table>\n",
       "</div>"
      ],
      "text/plain": [
       "             Name            Team  Number Position   Age Height  Weight  \\\n",
       "0  Averay Bradley  Boston Leltics     0.0       PG  25.0    6-2   180.0   \n",
       "1     Jae Crawder  Boston Leltics    99.0       SF  25.0    6-6   135.0   \n",
       "2    John Holland  Boston Leltics    30.0       SG  27.0    6-5   205.0   \n",
       "\n",
       "             College     Salary  \n",
       "0              Texas  7743232.0  \n",
       "1          Marquette    33422.0  \n",
       "2  Boston University        NaN  "
      ]
     },
     "execution_count": 16,
     "metadata": {},
     "output_type": "execute_result"
    }
   ],
   "source": [
    "nba_df"
   ]
  },
  {
   "cell_type": "code",
   "execution_count": 17,
   "id": "2e84a3af-7abd-46cb-98ba-82a16e4b4180",
   "metadata": {},
   "outputs": [],
   "source": [
    "nba_df[\"Age\"] += 10 "
   ]
  },
  {
   "cell_type": "code",
   "execution_count": 18,
   "id": "bc6a5352-f9b1-4d1f-982e-e9fdde3aaed3",
   "metadata": {},
   "outputs": [
    {
     "data": {
      "text/html": [
       "<div>\n",
       "<style scoped>\n",
       "    .dataframe tbody tr th:only-of-type {\n",
       "        vertical-align: middle;\n",
       "    }\n",
       "\n",
       "    .dataframe tbody tr th {\n",
       "        vertical-align: top;\n",
       "    }\n",
       "\n",
       "    .dataframe thead th {\n",
       "        text-align: right;\n",
       "    }\n",
       "</style>\n",
       "<table border=\"1\" class=\"dataframe\">\n",
       "  <thead>\n",
       "    <tr style=\"text-align: right;\">\n",
       "      <th></th>\n",
       "      <th>Name</th>\n",
       "      <th>Team</th>\n",
       "      <th>Number</th>\n",
       "      <th>Position</th>\n",
       "      <th>Age</th>\n",
       "      <th>Height</th>\n",
       "      <th>Weight</th>\n",
       "      <th>College</th>\n",
       "      <th>Salary</th>\n",
       "    </tr>\n",
       "  </thead>\n",
       "  <tbody>\n",
       "    <tr>\n",
       "      <th>0</th>\n",
       "      <td>Averay Bradley</td>\n",
       "      <td>Boston Leltics</td>\n",
       "      <td>0.0</td>\n",
       "      <td>PG</td>\n",
       "      <td>35.0</td>\n",
       "      <td>6-2</td>\n",
       "      <td>180.0</td>\n",
       "      <td>Texas</td>\n",
       "      <td>7743232.0</td>\n",
       "    </tr>\n",
       "    <tr>\n",
       "      <th>1</th>\n",
       "      <td>Jae Crawder</td>\n",
       "      <td>Boston Leltics</td>\n",
       "      <td>99.0</td>\n",
       "      <td>SF</td>\n",
       "      <td>35.0</td>\n",
       "      <td>6-6</td>\n",
       "      <td>135.0</td>\n",
       "      <td>Marquette</td>\n",
       "      <td>33422.0</td>\n",
       "    </tr>\n",
       "    <tr>\n",
       "      <th>2</th>\n",
       "      <td>John Holland</td>\n",
       "      <td>Boston Leltics</td>\n",
       "      <td>30.0</td>\n",
       "      <td>SG</td>\n",
       "      <td>37.0</td>\n",
       "      <td>6-5</td>\n",
       "      <td>205.0</td>\n",
       "      <td>Boston University</td>\n",
       "      <td>NaN</td>\n",
       "    </tr>\n",
       "  </tbody>\n",
       "</table>\n",
       "</div>"
      ],
      "text/plain": [
       "             Name            Team  Number Position   Age Height  Weight  \\\n",
       "0  Averay Bradley  Boston Leltics     0.0       PG  35.0    6-2   180.0   \n",
       "1     Jae Crawder  Boston Leltics    99.0       SF  35.0    6-6   135.0   \n",
       "2    John Holland  Boston Leltics    30.0       SG  37.0    6-5   205.0   \n",
       "\n",
       "             College     Salary  \n",
       "0              Texas  7743232.0  \n",
       "1          Marquette    33422.0  \n",
       "2  Boston University        NaN  "
      ]
     },
     "execution_count": 18,
     "metadata": {},
     "output_type": "execute_result"
    }
   ],
   "source": [
    "nba_df"
   ]
  },
  {
   "cell_type": "code",
   "execution_count": 19,
   "id": "957e4054-a66d-47b9-9b31-a93a0e12ac5b",
   "metadata": {},
   "outputs": [
    {
     "data": {
      "text/plain": [
       "nan"
      ]
     },
     "execution_count": 19,
     "metadata": {},
     "output_type": "execute_result"
    }
   ],
   "source": [
    "10 + np.nan"
   ]
  },
  {
   "cell_type": "code",
   "execution_count": 23,
   "id": "7b2ff440-bade-42fb-b467-5a2e24b706af",
   "metadata": {},
   "outputs": [],
   "source": [
    "nba_df[\"Weight in Kilograms\"] = nba_df[\"Weight\"] / 2.205"
   ]
  },
  {
   "cell_type": "code",
   "execution_count": 24,
   "id": "e880fdc2-de26-417a-979d-f4d80d3b1ad5",
   "metadata": {},
   "outputs": [
    {
     "data": {
      "text/html": [
       "<div>\n",
       "<style scoped>\n",
       "    .dataframe tbody tr th:only-of-type {\n",
       "        vertical-align: middle;\n",
       "    }\n",
       "\n",
       "    .dataframe tbody tr th {\n",
       "        vertical-align: top;\n",
       "    }\n",
       "\n",
       "    .dataframe thead th {\n",
       "        text-align: right;\n",
       "    }\n",
       "</style>\n",
       "<table border=\"1\" class=\"dataframe\">\n",
       "  <thead>\n",
       "    <tr style=\"text-align: right;\">\n",
       "      <th></th>\n",
       "      <th>Name</th>\n",
       "      <th>Team</th>\n",
       "      <th>Number</th>\n",
       "      <th>Position</th>\n",
       "      <th>Age</th>\n",
       "      <th>Height</th>\n",
       "      <th>Weight</th>\n",
       "      <th>College</th>\n",
       "      <th>Salary</th>\n",
       "      <th>Weight in Kilograms</th>\n",
       "    </tr>\n",
       "  </thead>\n",
       "  <tbody>\n",
       "    <tr>\n",
       "      <th>0</th>\n",
       "      <td>Averay Bradley</td>\n",
       "      <td>Boston Leltics</td>\n",
       "      <td>0.0</td>\n",
       "      <td>PG</td>\n",
       "      <td>35.0</td>\n",
       "      <td>6-2</td>\n",
       "      <td>180.0</td>\n",
       "      <td>Texas</td>\n",
       "      <td>7743232.0</td>\n",
       "      <td>81.632653</td>\n",
       "    </tr>\n",
       "    <tr>\n",
       "      <th>1</th>\n",
       "      <td>Jae Crawder</td>\n",
       "      <td>Boston Leltics</td>\n",
       "      <td>99.0</td>\n",
       "      <td>SF</td>\n",
       "      <td>35.0</td>\n",
       "      <td>6-6</td>\n",
       "      <td>135.0</td>\n",
       "      <td>Marquette</td>\n",
       "      <td>33422.0</td>\n",
       "      <td>61.224490</td>\n",
       "    </tr>\n",
       "    <tr>\n",
       "      <th>2</th>\n",
       "      <td>John Holland</td>\n",
       "      <td>Boston Leltics</td>\n",
       "      <td>30.0</td>\n",
       "      <td>SG</td>\n",
       "      <td>37.0</td>\n",
       "      <td>6-5</td>\n",
       "      <td>205.0</td>\n",
       "      <td>Boston University</td>\n",
       "      <td>NaN</td>\n",
       "      <td>92.970522</td>\n",
       "    </tr>\n",
       "  </tbody>\n",
       "</table>\n",
       "</div>"
      ],
      "text/plain": [
       "             Name            Team  Number Position   Age Height  Weight  \\\n",
       "0  Averay Bradley  Boston Leltics     0.0       PG  35.0    6-2   180.0   \n",
       "1     Jae Crawder  Boston Leltics    99.0       SF  35.0    6-6   135.0   \n",
       "2    John Holland  Boston Leltics    30.0       SG  37.0    6-5   205.0   \n",
       "\n",
       "             College     Salary  Weight in Kilograms  \n",
       "0              Texas  7743232.0            81.632653  \n",
       "1          Marquette    33422.0            61.224490  \n",
       "2  Boston University        NaN            92.970522  "
      ]
     },
     "execution_count": 24,
     "metadata": {},
     "output_type": "execute_result"
    }
   ],
   "source": [
    "nba_df"
   ]
  },
  {
   "cell_type": "code",
   "execution_count": null,
   "id": "f6c8e6bb-5dc6-4f75-807a-e4c5f717b65f",
   "metadata": {},
   "outputs": [],
   "source": []
  }
 ],
 "metadata": {
  "kernelspec": {
   "display_name": "Python 3 (ipykernel)",
   "language": "python",
   "name": "python3"
  },
  "language_info": {
   "codemirror_mode": {
    "name": "ipython",
    "version": 3
   },
   "file_extension": ".py",
   "mimetype": "text/x-python",
   "name": "python",
   "nbconvert_exporter": "python",
   "pygments_lexer": "ipython3",
   "version": "3.13.2"
  }
 },
 "nbformat": 4,
 "nbformat_minor": 5
}
