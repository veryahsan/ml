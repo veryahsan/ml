{
 "cells": [
  {
   "cell_type": "code",
   "execution_count": null,
   "id": "61af910f-d0bd-4eb6-b5a6-d7cef211601a",
   "metadata": {},
   "outputs": [],
   "source": [
    "import pandas as pd"
   ]
  },
  {
   "cell_type": "code",
   "execution_count": 10,
   "id": "b2e34e5f-2008-4aba-98fe-d2960c013af5",
   "metadata": {},
   "outputs": [],
   "source": [
    "dic_data = {\n",
    "    \"ahsan\" : \"SE\",\n",
    "    \"warda\" : \"DR\",\n",
    "    \"hamna\" : \"DR\",\n",
    "    \"aamna\" : \"MB\",\n",
    "    \"husnain\" : \"SE\"\n",
    "}"
   ]
  },
  {
   "cell_type": "code",
   "execution_count": 4,
   "id": "318fa061-28fa-4ff8-8f76-7c7a9f4c4ffa",
   "metadata": {},
   "outputs": [
    {
     "data": {
      "text/plain": [
       "{'ahsan': 'SE', 'warda': 'DR', 'hamna': 'DR', 'aamna': 'MB', 'husnain': 'SE'}"
      ]
     },
     "execution_count": 4,
     "metadata": {},
     "output_type": "execute_result"
    }
   ],
   "source": [
    "dic_data"
   ]
  },
  {
   "cell_type": "code",
   "execution_count": 6,
   "id": "b8e87f41-c11e-4224-9661-a882478dad86",
   "metadata": {},
   "outputs": [],
   "source": [
    "series_data = pd.Series(dic_data)"
   ]
  },
  {
   "cell_type": "code",
   "execution_count": 8,
   "id": "4a52f1a5-b630-45e8-99b3-c71c62ba40ea",
   "metadata": {},
   "outputs": [
    {
     "data": {
      "text/plain": [
       "ahsan      SE\n",
       "warda      DR\n",
       "hamna      DR\n",
       "aamna      MB\n",
       "husnain    SE\n",
       "dtype: object"
      ]
     },
     "execution_count": 8,
     "metadata": {},
     "output_type": "execute_result"
    }
   ],
   "source": [
    "series_data"
   ]
  },
  {
   "cell_type": "code",
   "execution_count": 9,
   "id": "bb8be917-9ade-4545-99b3-260a6b57ae05",
   "metadata": {},
   "outputs": [
    {
     "data": {
      "text/plain": [
       "dtype('O')"
      ]
     },
     "execution_count": 9,
     "metadata": {},
     "output_type": "execute_result"
    }
   ],
   "source": [
    "series_data.dtype"
   ]
  },
  {
   "cell_type": "code",
   "execution_count": 13,
   "id": "8245030c-e6c5-4ae9-9e3c-65c81839353b",
   "metadata": {},
   "outputs": [],
   "source": [
    "school_data = {\n",
    "    \"department\" : [\"computer science\", \"humanities\", \"electrical\", \"data science\"],\n",
    "    \"students\" : [\"ahsan mehmood\", \"irfan kharal\", \"shazib qaiser\", \"shafiqa iqbal\"],\n",
    "    \"institute\" : [\"FAST\", \"FAST\", \"NYU\", \"GOOGLE\"]\n",
    "}"
   ]
  },
  {
   "cell_type": "code",
   "execution_count": 14,
   "id": "12f2b110-442a-4efb-a687-24ed1534c0cf",
   "metadata": {},
   "outputs": [
    {
     "data": {
      "text/plain": [
       "{'department': ['computer science',\n",
       "  'humanities',\n",
       "  'electrical',\n",
       "  'data science'],\n",
       " 'students': ['ahsan mehmood',\n",
       "  'irfan kharal',\n",
       "  'shazib qaiser',\n",
       "  'shafiqa iqbal'],\n",
       " 'institute': ['FAST', 'FAST', 'NYU', 'GOOGLE']}"
      ]
     },
     "execution_count": 14,
     "metadata": {},
     "output_type": "execute_result"
    }
   ],
   "source": [
    "school_data"
   ]
  },
  {
   "cell_type": "code",
   "execution_count": 16,
   "id": "c5af4192-1ef9-4f83-9d80-7cbc02d0481e",
   "metadata": {},
   "outputs": [
    {
     "data": {
      "text/plain": [
       "['computer science', 'humanities', 'electrical', 'data science']"
      ]
     },
     "execution_count": 16,
     "metadata": {},
     "output_type": "execute_result"
    }
   ],
   "source": [
    "school_data[\"department\"]"
   ]
  },
  {
   "cell_type": "code",
   "execution_count": 18,
   "id": "726fcdb0-2646-4ff1-9951-bab6c5cf0e7a",
   "metadata": {},
   "outputs": [],
   "source": [
    "df_db = pd.DataFrame(school_data)"
   ]
  },
  {
   "cell_type": "code",
   "execution_count": 19,
   "id": "59b62145-d7ea-433e-b0af-b86639ae9ac2",
   "metadata": {},
   "outputs": [
    {
     "data": {
      "text/html": [
       "<div>\n",
       "<style scoped>\n",
       "    .dataframe tbody tr th:only-of-type {\n",
       "        vertical-align: middle;\n",
       "    }\n",
       "\n",
       "    .dataframe tbody tr th {\n",
       "        vertical-align: top;\n",
       "    }\n",
       "\n",
       "    .dataframe thead th {\n",
       "        text-align: right;\n",
       "    }\n",
       "</style>\n",
       "<table border=\"1\" class=\"dataframe\">\n",
       "  <thead>\n",
       "    <tr style=\"text-align: right;\">\n",
       "      <th></th>\n",
       "      <th>department</th>\n",
       "      <th>students</th>\n",
       "      <th>institute</th>\n",
       "    </tr>\n",
       "  </thead>\n",
       "  <tbody>\n",
       "    <tr>\n",
       "      <th>0</th>\n",
       "      <td>computer science</td>\n",
       "      <td>ahsan mehmood</td>\n",
       "      <td>FAST</td>\n",
       "    </tr>\n",
       "    <tr>\n",
       "      <th>1</th>\n",
       "      <td>humanities</td>\n",
       "      <td>irfan kharal</td>\n",
       "      <td>FAST</td>\n",
       "    </tr>\n",
       "    <tr>\n",
       "      <th>2</th>\n",
       "      <td>electrical</td>\n",
       "      <td>shazib qaiser</td>\n",
       "      <td>NYU</td>\n",
       "    </tr>\n",
       "    <tr>\n",
       "      <th>3</th>\n",
       "      <td>data science</td>\n",
       "      <td>shafiqa iqbal</td>\n",
       "      <td>GOOGLE</td>\n",
       "    </tr>\n",
       "  </tbody>\n",
       "</table>\n",
       "</div>"
      ],
      "text/plain": [
       "         department       students institute\n",
       "0  computer science  ahsan mehmood      FAST\n",
       "1        humanities   irfan kharal      FAST\n",
       "2        electrical  shazib qaiser       NYU\n",
       "3      data science  shafiqa iqbal    GOOGLE"
      ]
     },
     "execution_count": 19,
     "metadata": {},
     "output_type": "execute_result"
    }
   ],
   "source": [
    "df_db"
   ]
  },
  {
   "cell_type": "code",
   "execution_count": 23,
   "id": "c7848e3a-31a6-4cb2-8f4c-8cc6a16803a5",
   "metadata": {},
   "outputs": [
    {
     "data": {
      "text/plain": [
       "0    computer science\n",
       "1          humanities\n",
       "2          electrical\n",
       "3        data science\n",
       "Name: department, dtype: object"
      ]
     },
     "execution_count": 23,
     "metadata": {},
     "output_type": "execute_result"
    }
   ],
   "source": [
    "df_db[\"department\"]"
   ]
  },
  {
   "cell_type": "code",
   "execution_count": 24,
   "id": "0778bc72-05cd-455d-a2df-f2f2c16630a3",
   "metadata": {},
   "outputs": [
    {
     "data": {
      "text/html": [
       "<div>\n",
       "<style scoped>\n",
       "    .dataframe tbody tr th:only-of-type {\n",
       "        vertical-align: middle;\n",
       "    }\n",
       "\n",
       "    .dataframe tbody tr th {\n",
       "        vertical-align: top;\n",
       "    }\n",
       "\n",
       "    .dataframe thead th {\n",
       "        text-align: right;\n",
       "    }\n",
       "</style>\n",
       "<table border=\"1\" class=\"dataframe\">\n",
       "  <thead>\n",
       "    <tr style=\"text-align: right;\">\n",
       "      <th></th>\n",
       "      <th>department</th>\n",
       "      <th>students</th>\n",
       "      <th>institute</th>\n",
       "    </tr>\n",
       "  </thead>\n",
       "  <tbody>\n",
       "    <tr>\n",
       "      <th>0</th>\n",
       "      <td>computer science</td>\n",
       "      <td>ahsan mehmood</td>\n",
       "      <td>FAST</td>\n",
       "    </tr>\n",
       "    <tr>\n",
       "      <th>1</th>\n",
       "      <td>humanities</td>\n",
       "      <td>irfan kharal</td>\n",
       "      <td>FAST</td>\n",
       "    </tr>\n",
       "    <tr>\n",
       "      <th>2</th>\n",
       "      <td>electrical</td>\n",
       "      <td>shazib qaiser</td>\n",
       "      <td>NYU</td>\n",
       "    </tr>\n",
       "    <tr>\n",
       "      <th>3</th>\n",
       "      <td>data science</td>\n",
       "      <td>shafiqa iqbal</td>\n",
       "      <td>GOOGLE</td>\n",
       "    </tr>\n",
       "  </tbody>\n",
       "</table>\n",
       "</div>"
      ],
      "text/plain": [
       "         department       students institute\n",
       "0  computer science  ahsan mehmood      FAST\n",
       "1        humanities   irfan kharal      FAST\n",
       "2        electrical  shazib qaiser       NYU\n",
       "3      data science  shafiqa iqbal    GOOGLE"
      ]
     },
     "execution_count": 24,
     "metadata": {},
     "output_type": "execute_result"
    }
   ],
   "source": [
    "df_db"
   ]
  },
  {
   "cell_type": "code",
   "execution_count": 31,
   "id": "b6cc781c-61a8-4f4f-8643-62aa3e8a26a9",
   "metadata": {},
   "outputs": [],
   "source": [
    "s = pd.Series(np.random.randn(5), index=[\"a\", \"b\", \"c\", \"d\", \"e\"])"
   ]
  },
  {
   "cell_type": "code",
   "execution_count": 30,
   "id": "0327bc7e-7564-492a-9af9-f864c0fbbe77",
   "metadata": {},
   "outputs": [],
   "source": [
    "import numpy as np"
   ]
  },
  {
   "cell_type": "code",
   "execution_count": 32,
   "id": "60664bd1-5fd3-482b-b68d-e201dab37d3a",
   "metadata": {},
   "outputs": [
    {
     "data": {
      "text/plain": [
       "a    1.353875\n",
       "b    1.550099\n",
       "c    0.101563\n",
       "d    0.790774\n",
       "e   -0.574295\n",
       "dtype: float64"
      ]
     },
     "execution_count": 32,
     "metadata": {},
     "output_type": "execute_result"
    }
   ],
   "source": [
    "s"
   ]
  },
  {
   "cell_type": "code",
   "execution_count": 33,
   "id": "91a01b14-ee25-4f5f-83ac-34a19f9fd81f",
   "metadata": {},
   "outputs": [
    {
     "data": {
      "text/plain": [
       "Index(['a', 'b', 'c', 'd', 'e'], dtype='object')"
      ]
     },
     "execution_count": 33,
     "metadata": {},
     "output_type": "execute_result"
    }
   ],
   "source": [
    "s.index"
   ]
  },
  {
   "cell_type": "code",
   "execution_count": 34,
   "id": "483dec08-a561-4f50-92d8-9f6a4db36145",
   "metadata": {},
   "outputs": [
    {
     "data": {
      "text/plain": [
       "'a'"
      ]
     },
     "execution_count": 34,
     "metadata": {},
     "output_type": "execute_result"
    }
   ],
   "source": [
    "s.index[0]"
   ]
  },
  {
   "cell_type": "code",
   "execution_count": 40,
   "id": "31370878-1239-486c-8e56-d70bde40b8b5",
   "metadata": {},
   "outputs": [],
   "source": [
    "s1 = pd.Series(np.random.rand(5), name=\"murder_weights\")\n",
    "s2 = pd.Series(np.random.rand(5), name=\"survive_weights\")"
   ]
  },
  {
   "cell_type": "code",
   "execution_count": 41,
   "id": "278f639f-c3e4-410a-9f3a-c6789aa399be",
   "metadata": {},
   "outputs": [
    {
     "data": {
      "text/plain": [
       "0    False\n",
       "1    False\n",
       "2    False\n",
       "3    False\n",
       "4    False\n",
       "dtype: bool"
      ]
     },
     "execution_count": 41,
     "metadata": {},
     "output_type": "execute_result"
    }
   ],
   "source": [
    "s1 == s2"
   ]
  },
  {
   "cell_type": "code",
   "execution_count": 42,
   "id": "2821d94c-73e4-489b-b5e1-cf559e614b63",
   "metadata": {},
   "outputs": [
    {
     "data": {
      "text/plain": [
       "0    0.498403\n",
       "1    0.529257\n",
       "2    0.205230\n",
       "3    0.530175\n",
       "4    0.471816\n",
       "Name: murder_weights, dtype: float64"
      ]
     },
     "execution_count": 42,
     "metadata": {},
     "output_type": "execute_result"
    }
   ],
   "source": [
    "s1"
   ]
  },
  {
   "cell_type": "code",
   "execution_count": 43,
   "id": "5e1d2a3d-4508-43db-a273-4b07d6b7743d",
   "metadata": {},
   "outputs": [
    {
     "data": {
      "text/plain": [
       "0    0.629146\n",
       "1    0.352415\n",
       "2    0.637527\n",
       "3    0.410046\n",
       "4    0.693474\n",
       "Name: survive_weights, dtype: float64"
      ]
     },
     "execution_count": 43,
     "metadata": {},
     "output_type": "execute_result"
    }
   ],
   "source": [
    "s2"
   ]
  },
  {
   "cell_type": "code",
   "execution_count": 46,
   "id": "b85ed7a5-037e-4426-9500-0c1a66b8219c",
   "metadata": {},
   "outputs": [],
   "source": [
    "add = s1 + s2"
   ]
  },
  {
   "cell_type": "code",
   "execution_count": 47,
   "id": "e9c52432-1a21-4fce-905b-967b8ab79001",
   "metadata": {},
   "outputs": [
    {
     "data": {
      "text/plain": [
       "0    1.127549\n",
       "1    0.881671\n",
       "2    0.842757\n",
       "3    0.940220\n",
       "4    1.165290\n",
       "dtype: float64"
      ]
     },
     "execution_count": 47,
     "metadata": {},
     "output_type": "execute_result"
    }
   ],
   "source": [
    "add"
   ]
  },
  {
   "cell_type": "code",
   "execution_count": 54,
   "id": "48e2bba1-7f51-45f5-b822-e5da104a4834",
   "metadata": {},
   "outputs": [
    {
     "ename": "TypeError",
     "evalue": "DataFrame.__init__() got an unexpected keyword argument 'axis'",
     "output_type": "error",
     "traceback": [
      "\u001b[31m---------------------------------------------------------------------------\u001b[39m",
      "\u001b[31mTypeError\u001b[39m                                 Traceback (most recent call last)",
      "\u001b[36mCell\u001b[39m\u001b[36m \u001b[39m\u001b[32mIn[54]\u001b[39m\u001b[32m, line 1\u001b[39m\n\u001b[32m----> \u001b[39m\u001b[32m1\u001b[39m df = \u001b[43mpd\u001b[49m\u001b[43m.\u001b[49m\u001b[43mDataFrame\u001b[49m\u001b[43m(\u001b[49m\u001b[43m[\u001b[49m\u001b[43ms1\u001b[49m\u001b[43m,\u001b[49m\u001b[43m \u001b[49m\u001b[43ms2\u001b[49m\u001b[43m]\u001b[49m\u001b[43m,\u001b[49m\u001b[43m \u001b[49m\u001b[43maxis\u001b[49m\u001b[43m=\u001b[49m\u001b[32;43m1\u001b[39;49m\u001b[43m)\u001b[49m\n",
      "\u001b[31mTypeError\u001b[39m: DataFrame.__init__() got an unexpected keyword argument 'axis'"
     ]
    }
   ],
   "source": [
    "df = pd.DataFrame([s1, s2], axis=1)"
   ]
  },
  {
   "cell_type": "code",
   "execution_count": 55,
   "id": "3ea93398-5c62-4dd4-9ec2-75af12c8c63d",
   "metadata": {},
   "outputs": [],
   "source": [
    "df = pd.concat([s1, s2], axis=1)"
   ]
  },
  {
   "cell_type": "code",
   "execution_count": 56,
   "id": "0c4d88f7-8f9e-4b4c-8015-460735022a07",
   "metadata": {},
   "outputs": [
    {
     "data": {
      "text/html": [
       "<div>\n",
       "<style scoped>\n",
       "    .dataframe tbody tr th:only-of-type {\n",
       "        vertical-align: middle;\n",
       "    }\n",
       "\n",
       "    .dataframe tbody tr th {\n",
       "        vertical-align: top;\n",
       "    }\n",
       "\n",
       "    .dataframe thead th {\n",
       "        text-align: right;\n",
       "    }\n",
       "</style>\n",
       "<table border=\"1\" class=\"dataframe\">\n",
       "  <thead>\n",
       "    <tr style=\"text-align: right;\">\n",
       "      <th></th>\n",
       "      <th>murder_weights</th>\n",
       "      <th>survive_weights</th>\n",
       "    </tr>\n",
       "  </thead>\n",
       "  <tbody>\n",
       "    <tr>\n",
       "      <th>0</th>\n",
       "      <td>0.498403</td>\n",
       "      <td>0.629146</td>\n",
       "    </tr>\n",
       "    <tr>\n",
       "      <th>1</th>\n",
       "      <td>0.529257</td>\n",
       "      <td>0.352415</td>\n",
       "    </tr>\n",
       "    <tr>\n",
       "      <th>2</th>\n",
       "      <td>0.205230</td>\n",
       "      <td>0.637527</td>\n",
       "    </tr>\n",
       "    <tr>\n",
       "      <th>3</th>\n",
       "      <td>0.530175</td>\n",
       "      <td>0.410046</td>\n",
       "    </tr>\n",
       "    <tr>\n",
       "      <th>4</th>\n",
       "      <td>0.471816</td>\n",
       "      <td>0.693474</td>\n",
       "    </tr>\n",
       "  </tbody>\n",
       "</table>\n",
       "</div>"
      ],
      "text/plain": [
       "   murder_weights  survive_weights\n",
       "0        0.498403         0.629146\n",
       "1        0.529257         0.352415\n",
       "2        0.205230         0.637527\n",
       "3        0.530175         0.410046\n",
       "4        0.471816         0.693474"
      ]
     },
     "execution_count": 56,
     "metadata": {},
     "output_type": "execute_result"
    }
   ],
   "source": [
    "df"
   ]
  },
  {
   "cell_type": "code",
   "execution_count": 57,
   "id": "8e84de77-d8d4-49a4-ba82-1ed420b77d16",
   "metadata": {},
   "outputs": [],
   "source": [
    "df = pd.concat([s1, s2], axis=0)"
   ]
  },
  {
   "cell_type": "code",
   "execution_count": 58,
   "id": "ccd15dc2-2e81-4f94-a34e-b34117f633d9",
   "metadata": {},
   "outputs": [
    {
     "data": {
      "text/plain": [
       "0    0.498403\n",
       "1    0.529257\n",
       "2    0.205230\n",
       "3    0.530175\n",
       "4    0.471816\n",
       "0    0.629146\n",
       "1    0.352415\n",
       "2    0.637527\n",
       "3    0.410046\n",
       "4    0.693474\n",
       "dtype: float64"
      ]
     },
     "execution_count": 58,
     "metadata": {},
     "output_type": "execute_result"
    }
   ],
   "source": [
    "df"
   ]
  },
  {
   "cell_type": "code",
   "execution_count": 59,
   "id": "40d60e33-2dc7-44d2-b2c0-c5775ce39ca1",
   "metadata": {},
   "outputs": [
    {
     "data": {
      "text/plain": [
       "0    0.498403\n",
       "1    0.529257\n",
       "2    0.205230\n",
       "3    0.530175\n",
       "4    0.471816\n",
       "Name: murder_weights, dtype: float64"
      ]
     },
     "execution_count": 59,
     "metadata": {},
     "output_type": "execute_result"
    }
   ],
   "source": [
    "s1"
   ]
  },
  {
   "cell_type": "code",
   "execution_count": 60,
   "id": "b5c3dcc0-3b1d-49b7-a923-f9af0e77ad10",
   "metadata": {},
   "outputs": [
    {
     "data": {
      "text/plain": [
       "0    0.629146\n",
       "1    0.352415\n",
       "2    0.637527\n",
       "3    0.410046\n",
       "4    0.693474\n",
       "Name: survive_weights, dtype: float64"
      ]
     },
     "execution_count": 60,
     "metadata": {},
     "output_type": "execute_result"
    }
   ],
   "source": [
    "s2"
   ]
  },
  {
   "cell_type": "code",
   "execution_count": 61,
   "id": "cb3d2b23-875f-4c06-80b5-954e0d12a6fa",
   "metadata": {},
   "outputs": [
    {
     "data": {
      "text/plain": [
       "pandas.core.series.Series"
      ]
     },
     "execution_count": 61,
     "metadata": {},
     "output_type": "execute_result"
    }
   ],
   "source": [
    "type(s2)"
   ]
  },
  {
   "cell_type": "code",
   "execution_count": 64,
   "id": "fcd0acd0-f2f7-4e90-be23-acf84ab549dd",
   "metadata": {},
   "outputs": [],
   "source": [
    "df = pd.concat([s1, s2], axis=0, ignore_index=True) #ignores the index after merging"
   ]
  },
  {
   "cell_type": "code",
   "execution_count": 65,
   "id": "3d43f575-46ac-414f-a20b-3c68cc6c0f94",
   "metadata": {},
   "outputs": [
    {
     "data": {
      "text/plain": [
       "0    0.498403\n",
       "1    0.529257\n",
       "2    0.205230\n",
       "3    0.530175\n",
       "4    0.471816\n",
       "5    0.629146\n",
       "6    0.352415\n",
       "7    0.637527\n",
       "8    0.410046\n",
       "9    0.693474\n",
       "dtype: float64"
      ]
     },
     "execution_count": 65,
     "metadata": {},
     "output_type": "execute_result"
    }
   ],
   "source": [
    "df"
   ]
  },
  {
   "cell_type": "code",
   "execution_count": 87,
   "id": "e035ee85-3f57-4214-9e93-15f4e999b666",
   "metadata": {},
   "outputs": [],
   "source": [
    "df1_dic = {\n",
    "    \"A\" : [1, 3, 66, 33, 2],\n",
    "    \"B\" : [2, 44, 2, 45, 11],\n",
    "}\n",
    "df1 = pd.Series(df1_dic[\"A\"], name=\"ahsan\")\n",
    "df2 = pd.Series(df1_dic[\"B\"], name=\"warda\")\n"
   ]
  },
  {
   "cell_type": "code",
   "execution_count": 88,
   "id": "f36abbc3-c502-4b15-9dc1-a194ec6e1cc1",
   "metadata": {},
   "outputs": [
    {
     "data": {
      "text/plain": [
       "0     1\n",
       "1     3\n",
       "2    66\n",
       "3    33\n",
       "4     2\n",
       "Name: ahsan, dtype: int64"
      ]
     },
     "execution_count": 88,
     "metadata": {},
     "output_type": "execute_result"
    }
   ],
   "source": [
    "df1"
   ]
  },
  {
   "cell_type": "code",
   "execution_count": 91,
   "id": "587253ea-a8ba-4005-b1c7-39c5365b55f6",
   "metadata": {},
   "outputs": [],
   "source": [
    "new_df = pd.concat([df1, df2], axis = 1)"
   ]
  },
  {
   "cell_type": "code",
   "execution_count": 92,
   "id": "e1c901a8-a281-4156-a4f6-3bb4c3d121a2",
   "metadata": {},
   "outputs": [
    {
     "data": {
      "text/html": [
       "<div>\n",
       "<style scoped>\n",
       "    .dataframe tbody tr th:only-of-type {\n",
       "        vertical-align: middle;\n",
       "    }\n",
       "\n",
       "    .dataframe tbody tr th {\n",
       "        vertical-align: top;\n",
       "    }\n",
       "\n",
       "    .dataframe thead th {\n",
       "        text-align: right;\n",
       "    }\n",
       "</style>\n",
       "<table border=\"1\" class=\"dataframe\">\n",
       "  <thead>\n",
       "    <tr style=\"text-align: right;\">\n",
       "      <th></th>\n",
       "      <th>ahsan</th>\n",
       "      <th>warda</th>\n",
       "    </tr>\n",
       "  </thead>\n",
       "  <tbody>\n",
       "    <tr>\n",
       "      <th>0</th>\n",
       "      <td>1</td>\n",
       "      <td>2</td>\n",
       "    </tr>\n",
       "    <tr>\n",
       "      <th>1</th>\n",
       "      <td>3</td>\n",
       "      <td>44</td>\n",
       "    </tr>\n",
       "    <tr>\n",
       "      <th>2</th>\n",
       "      <td>66</td>\n",
       "      <td>2</td>\n",
       "    </tr>\n",
       "    <tr>\n",
       "      <th>3</th>\n",
       "      <td>33</td>\n",
       "      <td>45</td>\n",
       "    </tr>\n",
       "    <tr>\n",
       "      <th>4</th>\n",
       "      <td>2</td>\n",
       "      <td>11</td>\n",
       "    </tr>\n",
       "  </tbody>\n",
       "</table>\n",
       "</div>"
      ],
      "text/plain": [
       "   ahsan  warda\n",
       "0      1      2\n",
       "1      3     44\n",
       "2     66      2\n",
       "3     33     45\n",
       "4      2     11"
      ]
     },
     "execution_count": 92,
     "metadata": {},
     "output_type": "execute_result"
    }
   ],
   "source": [
    "new_df"
   ]
  },
  {
   "cell_type": "code",
   "execution_count": 94,
   "id": "bd0c5973-0c37-4a9b-a205-ba762c7aa21a",
   "metadata": {},
   "outputs": [
    {
     "data": {
      "text/plain": [
       "0     1\n",
       "1     3\n",
       "2    66\n",
       "3    33\n",
       "4     2\n",
       "Name: ahsan, dtype: int64"
      ]
     },
     "execution_count": 94,
     "metadata": {},
     "output_type": "execute_result"
    }
   ],
   "source": [
    "new_df[\"ahsan\"]"
   ]
  },
  {
   "cell_type": "code",
   "execution_count": 95,
   "id": "0985ed21-2dd2-4333-82cb-b15cdfe95cf7",
   "metadata": {},
   "outputs": [],
   "source": [
    "df1 = pd.DataFrame({\"A\": [1, 2], \"B\": [3, 4]})\n",
    "df2 = pd.DataFrame({\"A\": [5, 6], \"C\": [7, 8]})"
   ]
  },
  {
   "cell_type": "code",
   "execution_count": 96,
   "id": "a4598c31-5c4a-450f-a5ab-c9abf0e3b405",
   "metadata": {},
   "outputs": [
    {
     "data": {
      "text/html": [
       "<div>\n",
       "<style scoped>\n",
       "    .dataframe tbody tr th:only-of-type {\n",
       "        vertical-align: middle;\n",
       "    }\n",
       "\n",
       "    .dataframe tbody tr th {\n",
       "        vertical-align: top;\n",
       "    }\n",
       "\n",
       "    .dataframe thead th {\n",
       "        text-align: right;\n",
       "    }\n",
       "</style>\n",
       "<table border=\"1\" class=\"dataframe\">\n",
       "  <thead>\n",
       "    <tr style=\"text-align: right;\">\n",
       "      <th></th>\n",
       "      <th>A</th>\n",
       "      <th>B</th>\n",
       "    </tr>\n",
       "  </thead>\n",
       "  <tbody>\n",
       "    <tr>\n",
       "      <th>0</th>\n",
       "      <td>1</td>\n",
       "      <td>3</td>\n",
       "    </tr>\n",
       "    <tr>\n",
       "      <th>1</th>\n",
       "      <td>2</td>\n",
       "      <td>4</td>\n",
       "    </tr>\n",
       "  </tbody>\n",
       "</table>\n",
       "</div>"
      ],
      "text/plain": [
       "   A  B\n",
       "0  1  3\n",
       "1  2  4"
      ]
     },
     "execution_count": 96,
     "metadata": {},
     "output_type": "execute_result"
    }
   ],
   "source": [
    "df1"
   ]
  },
  {
   "cell_type": "code",
   "execution_count": 97,
   "id": "85d0b75e-7c8d-4b9c-8aa1-ac6329fe4e3e",
   "metadata": {},
   "outputs": [
    {
     "data": {
      "text/html": [
       "<div>\n",
       "<style scoped>\n",
       "    .dataframe tbody tr th:only-of-type {\n",
       "        vertical-align: middle;\n",
       "    }\n",
       "\n",
       "    .dataframe tbody tr th {\n",
       "        vertical-align: top;\n",
       "    }\n",
       "\n",
       "    .dataframe thead th {\n",
       "        text-align: right;\n",
       "    }\n",
       "</style>\n",
       "<table border=\"1\" class=\"dataframe\">\n",
       "  <thead>\n",
       "    <tr style=\"text-align: right;\">\n",
       "      <th></th>\n",
       "      <th>A</th>\n",
       "      <th>C</th>\n",
       "    </tr>\n",
       "  </thead>\n",
       "  <tbody>\n",
       "    <tr>\n",
       "      <th>0</th>\n",
       "      <td>5</td>\n",
       "      <td>7</td>\n",
       "    </tr>\n",
       "    <tr>\n",
       "      <th>1</th>\n",
       "      <td>6</td>\n",
       "      <td>8</td>\n",
       "    </tr>\n",
       "  </tbody>\n",
       "</table>\n",
       "</div>"
      ],
      "text/plain": [
       "   A  C\n",
       "0  5  7\n",
       "1  6  8"
      ]
     },
     "execution_count": 97,
     "metadata": {},
     "output_type": "execute_result"
    }
   ],
   "source": [
    "df2"
   ]
  },
  {
   "cell_type": "code",
   "execution_count": 98,
   "id": "b0ada7a4-8d0b-4960-b41a-2df60c856dcb",
   "metadata": {},
   "outputs": [],
   "source": [
    "result = pd.concat([df1, df2], axis=1)"
   ]
  },
  {
   "cell_type": "code",
   "execution_count": 99,
   "id": "a6755a7b-6eff-44cb-b6d2-e95b923aa774",
   "metadata": {},
   "outputs": [
    {
     "data": {
      "text/html": [
       "<div>\n",
       "<style scoped>\n",
       "    .dataframe tbody tr th:only-of-type {\n",
       "        vertical-align: middle;\n",
       "    }\n",
       "\n",
       "    .dataframe tbody tr th {\n",
       "        vertical-align: top;\n",
       "    }\n",
       "\n",
       "    .dataframe thead th {\n",
       "        text-align: right;\n",
       "    }\n",
       "</style>\n",
       "<table border=\"1\" class=\"dataframe\">\n",
       "  <thead>\n",
       "    <tr style=\"text-align: right;\">\n",
       "      <th></th>\n",
       "      <th>A</th>\n",
       "      <th>B</th>\n",
       "      <th>A</th>\n",
       "      <th>C</th>\n",
       "    </tr>\n",
       "  </thead>\n",
       "  <tbody>\n",
       "    <tr>\n",
       "      <th>0</th>\n",
       "      <td>1</td>\n",
       "      <td>3</td>\n",
       "      <td>5</td>\n",
       "      <td>7</td>\n",
       "    </tr>\n",
       "    <tr>\n",
       "      <th>1</th>\n",
       "      <td>2</td>\n",
       "      <td>4</td>\n",
       "      <td>6</td>\n",
       "      <td>8</td>\n",
       "    </tr>\n",
       "  </tbody>\n",
       "</table>\n",
       "</div>"
      ],
      "text/plain": [
       "   A  B  A  C\n",
       "0  1  3  5  7\n",
       "1  2  4  6  8"
      ]
     },
     "execution_count": 99,
     "metadata": {},
     "output_type": "execute_result"
    }
   ],
   "source": [
    "result"
   ]
  },
  {
   "cell_type": "code",
   "execution_count": 102,
   "id": "5bc71b09-6f69-4c33-b42d-b475e33e746c",
   "metadata": {},
   "outputs": [],
   "source": [
    "result = pd.concat([df1, df2], axis=0, join=\"outer\")"
   ]
  },
  {
   "cell_type": "code",
   "execution_count": 103,
   "id": "d4b1a712-6bee-40a7-96d0-be5312583e2a",
   "metadata": {},
   "outputs": [
    {
     "data": {
      "text/html": [
       "<div>\n",
       "<style scoped>\n",
       "    .dataframe tbody tr th:only-of-type {\n",
       "        vertical-align: middle;\n",
       "    }\n",
       "\n",
       "    .dataframe tbody tr th {\n",
       "        vertical-align: top;\n",
       "    }\n",
       "\n",
       "    .dataframe thead th {\n",
       "        text-align: right;\n",
       "    }\n",
       "</style>\n",
       "<table border=\"1\" class=\"dataframe\">\n",
       "  <thead>\n",
       "    <tr style=\"text-align: right;\">\n",
       "      <th></th>\n",
       "      <th>A</th>\n",
       "      <th>B</th>\n",
       "      <th>C</th>\n",
       "    </tr>\n",
       "  </thead>\n",
       "  <tbody>\n",
       "    <tr>\n",
       "      <th>0</th>\n",
       "      <td>1</td>\n",
       "      <td>3.0</td>\n",
       "      <td>NaN</td>\n",
       "    </tr>\n",
       "    <tr>\n",
       "      <th>1</th>\n",
       "      <td>2</td>\n",
       "      <td>4.0</td>\n",
       "      <td>NaN</td>\n",
       "    </tr>\n",
       "    <tr>\n",
       "      <th>0</th>\n",
       "      <td>5</td>\n",
       "      <td>NaN</td>\n",
       "      <td>7.0</td>\n",
       "    </tr>\n",
       "    <tr>\n",
       "      <th>1</th>\n",
       "      <td>6</td>\n",
       "      <td>NaN</td>\n",
       "      <td>8.0</td>\n",
       "    </tr>\n",
       "  </tbody>\n",
       "</table>\n",
       "</div>"
      ],
      "text/plain": [
       "   A    B    C\n",
       "0  1  3.0  NaN\n",
       "1  2  4.0  NaN\n",
       "0  5  NaN  7.0\n",
       "1  6  NaN  8.0"
      ]
     },
     "execution_count": 103,
     "metadata": {},
     "output_type": "execute_result"
    }
   ],
   "source": [
    "result"
   ]
  },
  {
   "cell_type": "code",
   "execution_count": 104,
   "id": "ace07118-485f-43c3-b479-a3563df06542",
   "metadata": {},
   "outputs": [],
   "source": [
    "result = pd.concat([df1, df2], axis=0, join=\"inner\")"
   ]
  },
  {
   "cell_type": "code",
   "execution_count": 105,
   "id": "4cf92b44-529a-427a-9d99-c54d7f8a3eeb",
   "metadata": {},
   "outputs": [
    {
     "data": {
      "text/html": [
       "<div>\n",
       "<style scoped>\n",
       "    .dataframe tbody tr th:only-of-type {\n",
       "        vertical-align: middle;\n",
       "    }\n",
       "\n",
       "    .dataframe tbody tr th {\n",
       "        vertical-align: top;\n",
       "    }\n",
       "\n",
       "    .dataframe thead th {\n",
       "        text-align: right;\n",
       "    }\n",
       "</style>\n",
       "<table border=\"1\" class=\"dataframe\">\n",
       "  <thead>\n",
       "    <tr style=\"text-align: right;\">\n",
       "      <th></th>\n",
       "      <th>A</th>\n",
       "    </tr>\n",
       "  </thead>\n",
       "  <tbody>\n",
       "    <tr>\n",
       "      <th>0</th>\n",
       "      <td>1</td>\n",
       "    </tr>\n",
       "    <tr>\n",
       "      <th>1</th>\n",
       "      <td>2</td>\n",
       "    </tr>\n",
       "    <tr>\n",
       "      <th>0</th>\n",
       "      <td>5</td>\n",
       "    </tr>\n",
       "    <tr>\n",
       "      <th>1</th>\n",
       "      <td>6</td>\n",
       "    </tr>\n",
       "  </tbody>\n",
       "</table>\n",
       "</div>"
      ],
      "text/plain": [
       "   A\n",
       "0  1\n",
       "1  2\n",
       "0  5\n",
       "1  6"
      ]
     },
     "execution_count": 105,
     "metadata": {},
     "output_type": "execute_result"
    }
   ],
   "source": [
    "result"
   ]
  },
  {
   "cell_type": "code",
   "execution_count": 111,
   "id": "e5f2261a-3aa1-463e-9ab2-10869efb8d38",
   "metadata": {},
   "outputs": [],
   "source": [
    "s = pd.Series([1, 2, 3], index=[0, 1, 2])  \n",
    "\n",
    "df = pd.DataFrame({\"A\": [10, 20], \"B\": [30, 40], \"C\": [50, 60]})"
   ]
  },
  {
   "cell_type": "code",
   "execution_count": 112,
   "id": "2d0f8e20-33ac-477e-8fa6-59069a412766",
   "metadata": {},
   "outputs": [],
   "source": [
    "df_new = df.add(s, axis=0) #broadcasting along the rows with matching indeces 0 1 2"
   ]
  },
  {
   "cell_type": "code",
   "execution_count": 113,
   "id": "6f78c46a-494c-4e93-bf2f-ca940f6a7ed9",
   "metadata": {},
   "outputs": [
    {
     "data": {
      "text/html": [
       "<div>\n",
       "<style scoped>\n",
       "    .dataframe tbody tr th:only-of-type {\n",
       "        vertical-align: middle;\n",
       "    }\n",
       "\n",
       "    .dataframe tbody tr th {\n",
       "        vertical-align: top;\n",
       "    }\n",
       "\n",
       "    .dataframe thead th {\n",
       "        text-align: right;\n",
       "    }\n",
       "</style>\n",
       "<table border=\"1\" class=\"dataframe\">\n",
       "  <thead>\n",
       "    <tr style=\"text-align: right;\">\n",
       "      <th></th>\n",
       "      <th>A</th>\n",
       "      <th>B</th>\n",
       "      <th>C</th>\n",
       "    </tr>\n",
       "  </thead>\n",
       "  <tbody>\n",
       "    <tr>\n",
       "      <th>0</th>\n",
       "      <td>11.0</td>\n",
       "      <td>31.0</td>\n",
       "      <td>51.0</td>\n",
       "    </tr>\n",
       "    <tr>\n",
       "      <th>1</th>\n",
       "      <td>22.0</td>\n",
       "      <td>42.0</td>\n",
       "      <td>62.0</td>\n",
       "    </tr>\n",
       "    <tr>\n",
       "      <th>2</th>\n",
       "      <td>NaN</td>\n",
       "      <td>NaN</td>\n",
       "      <td>NaN</td>\n",
       "    </tr>\n",
       "  </tbody>\n",
       "</table>\n",
       "</div>"
      ],
      "text/plain": [
       "      A     B     C\n",
       "0  11.0  31.0  51.0\n",
       "1  22.0  42.0  62.0\n",
       "2   NaN   NaN   NaN"
      ]
     },
     "execution_count": 113,
     "metadata": {},
     "output_type": "execute_result"
    }
   ],
   "source": [
    "df_new"
   ]
  },
  {
   "cell_type": "code",
   "execution_count": 114,
   "id": "bcc73b2f-8866-4214-9fca-d90ca8e4e560",
   "metadata": {},
   "outputs": [],
   "source": [
    "df_new = df.add(s, axis=1)"
   ]
  },
  {
   "cell_type": "code",
   "execution_count": 115,
   "id": "88dd5852-557a-441f-831e-37ce25ca2fbb",
   "metadata": {},
   "outputs": [
    {
     "data": {
      "text/html": [
       "<div>\n",
       "<style scoped>\n",
       "    .dataframe tbody tr th:only-of-type {\n",
       "        vertical-align: middle;\n",
       "    }\n",
       "\n",
       "    .dataframe tbody tr th {\n",
       "        vertical-align: top;\n",
       "    }\n",
       "\n",
       "    .dataframe thead th {\n",
       "        text-align: right;\n",
       "    }\n",
       "</style>\n",
       "<table border=\"1\" class=\"dataframe\">\n",
       "  <thead>\n",
       "    <tr style=\"text-align: right;\">\n",
       "      <th></th>\n",
       "      <th>A</th>\n",
       "      <th>B</th>\n",
       "      <th>C</th>\n",
       "      <th>0</th>\n",
       "      <th>1</th>\n",
       "      <th>2</th>\n",
       "    </tr>\n",
       "  </thead>\n",
       "  <tbody>\n",
       "    <tr>\n",
       "      <th>0</th>\n",
       "      <td>NaN</td>\n",
       "      <td>NaN</td>\n",
       "      <td>NaN</td>\n",
       "      <td>NaN</td>\n",
       "      <td>NaN</td>\n",
       "      <td>NaN</td>\n",
       "    </tr>\n",
       "    <tr>\n",
       "      <th>1</th>\n",
       "      <td>NaN</td>\n",
       "      <td>NaN</td>\n",
       "      <td>NaN</td>\n",
       "      <td>NaN</td>\n",
       "      <td>NaN</td>\n",
       "      <td>NaN</td>\n",
       "    </tr>\n",
       "  </tbody>\n",
       "</table>\n",
       "</div>"
      ],
      "text/plain": [
       "    A   B   C   0   1   2\n",
       "0 NaN NaN NaN NaN NaN NaN\n",
       "1 NaN NaN NaN NaN NaN NaN"
      ]
     },
     "execution_count": 115,
     "metadata": {},
     "output_type": "execute_result"
    }
   ],
   "source": [
    "df_new"
   ]
  },
  {
   "cell_type": "code",
   "execution_count": null,
   "id": "550915ab-6d90-4955-a3a1-5b60ad994dcb",
   "metadata": {},
   "outputs": [],
   "source": []
  }
 ],
 "metadata": {
  "kernelspec": {
   "display_name": "Python 3 (ipykernel)",
   "language": "python",
   "name": "python3"
  },
  "language_info": {
   "codemirror_mode": {
    "name": "ipython",
    "version": 3
   },
   "file_extension": ".py",
   "mimetype": "text/x-python",
   "name": "python",
   "nbconvert_exporter": "python",
   "pygments_lexer": "ipython3",
   "version": "3.13.2"
  }
 },
 "nbformat": 4,
 "nbformat_minor": 5
}
